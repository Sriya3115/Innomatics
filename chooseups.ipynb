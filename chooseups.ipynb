{
 "cells": [
  {
   "cell_type": "code",
   "execution_count": null,
   "id": "8613e64d",
   "metadata": {},
   "outputs": [],
   "source": [
    "# Interactive Restaurant Density Mapping – Self‑Contained Script\n",
    "\n",
    "# 1) Imports\n",
    "import pandas as pd\n",
    "import numpy as np\n",
    "import folium\n",
    "from folium.plugins import MarkerCluster\n",
    "from IPython.display import IFrame\n",
    "\n",
    "# 2) Load the datasets (ensure these CSVs are in your working directory)\n",
    "data1 = pd.read_csv('data1.csv')\n",
    "data2 = pd.read_csv('data2.csv')\n",
    "\n",
    "# 3) Clean & preprocess data1\n",
    "#   – Handle rate column (replace '-', 'NEW'; strip '/5'; convert to float; fill NaNs)\n",
    "data1['rate'] = (data1['rate']\n",
    "    .replace({'-': pd.NA, 'NEW': pd.NA})\n",
    "    .str.replace('/5','', regex=False))\n",
    "data1['rate'] = pd.to_numeric(data1['rate'], errors='coerce')\n",
    "data1['rate'] = data1['rate'].fillna(data1['rate'].median())\n",
    "\n",
    "#   – Handle cost column (remove commas; convert; fill NaNs)\n",
    "data1['approx_costfor_two_people'] = (data1['approx_costfor_two_people']\n",
    "    .astype(str)\n",
    "    .str.replace(',','', regex=False))\n",
    "data1['approx_costfor_two_people'] = pd.to_numeric(\n",
    "    data1['approx_costfor_two_people'], errors='coerce')\n",
    "data1['approx_costfor_two_people'] = data1['approx_costfor_two_people']\\\n",
    "    .fillna(data1['approx_costfor_two_people'].median())\n",
    "\n",
    "#   – Fill missing text fields\n",
    "data1['dish_liked'].fillna('Not Available', inplace=True)\n",
    "data1['cuisines'].fillna('Other',         inplace=True)\n",
    "data1['rest_type'].fillna('Unknown',      inplace=True)\n",
    "\n",
    "#   – Votes to int\n",
    "data1['votes'] = data1['votes'].fillna(data1['votes'].median()).astype(int)\n",
    "\n",
    "#   – Binary encode\n",
    "data1['online_order'] = data1['online_order'].map({'Yes':1,'No':0})\n",
    "data1['book_table']  = data1['book_table'].map({'Yes':1,'No':0})\n",
    "\n",
    "# 4) Merge with location data\n",
    "merged_df = pd.merge(data1, data2, on='listed_incity', how='left')\n",
    "\n",
    "# 5) Build the restaurant density map\n",
    "density_map = folium.Map(location=[12.9716, 77.5946], zoom_start=12)\n",
    "marker_cluster = MarkerCluster().add_to(density_map)\n",
    "\n",
    "for _, row in merged_df.iterrows():\n",
    "    lat, lon = row['Latitude'], row['Longitude']\n",
    "    if pd.notnull(lat) and pd.notnull(lon):\n",
    "        folium.Marker(\n",
    "            location=[lat, lon],\n",
    "            popup=(\n",
    "                f\"{row['listed_incity']}<br>\"\n",
    "                f\"Rating: {row['rate']}/5<br>\"\n",
    "                f\"Cost for Two: ₹{row['approx_costfor_two_people']}\"\n",
    "            ),\n",
    "            tooltip=row['listed_incity']\n",
    "        ).add_to(marker_cluster)\n",
    "\n",
    "# 6) Save and display the map\n",
    "density_map.save('restaurant_density.html')\n",
    "IFrame('restaurant_density.html', width=900, height=600)\n"
   ]
  },
  {
   "cell_type": "code",
   "execution_count": 7,
   "id": "3223887e",
   "metadata": {},
   "outputs": [],
   "source": [
    "import pandas as pd\n",
    "import numpy as np\n",
    "import folium\n",
    "from folium.plugins import MarkerCluster\n",
    "from IPython.display import IFrame\n"
   ]
  },
  {
   "cell_type": "code",
   "execution_count": 8,
   "id": "89a363b8",
   "metadata": {},
   "outputs": [],
   "source": [
    "data1 = pd.read_csv('data1.csv')\n",
    "data2 = pd.read_csv('data2.csv')"
   ]
  },
  {
   "cell_type": "code",
   "execution_count": 9,
   "id": "ec116bd4",
   "metadata": {},
   "outputs": [
    {
     "data": {
      "text/plain": [
       "(51750, 11)"
      ]
     },
     "execution_count": 9,
     "metadata": {},
     "output_type": "execute_result"
    }
   ],
   "source": [
    "merged_df.shape"
   ]
  },
  {
   "cell_type": "code",
   "execution_count": 10,
   "id": "55713f01",
   "metadata": {},
   "outputs": [],
   "source": [
    "data1 = pd.read_csv('data1.csv')\n",
    "data2 = pd.read_csv('data2.csv')\n"
   ]
  },
  {
   "cell_type": "code",
   "execution_count": 11,
   "id": "ee75f373",
   "metadata": {},
   "outputs": [],
   "source": [
    "data1['rate'] = (data1['rate']\n",
    "    .replace({'-': pd.NA, 'NEW': pd.NA})\n",
    "    .str.replace('/5','', regex=False))\n",
    "data1['rate'] = pd.to_numeric(data1['rate'], errors='coerce')\n",
    "data1['rate'] = data1['rate'].fillna(data1['rate'].median())"
   ]
  },
  {
   "cell_type": "code",
   "execution_count": 12,
   "id": "324bed74",
   "metadata": {},
   "outputs": [
    {
     "data": {
      "text/plain": [
       "13192"
      ]
     },
     "execution_count": 12,
     "metadata": {},
     "output_type": "execute_result"
    }
   ],
   "source": [
    "north_indian = merged_df[merged_df['cuisines'].str.contains('North Indian', na=False)]\n",
    "north_indian.shape[0]"
   ]
  },
  {
   "cell_type": "code",
   "execution_count": 13,
   "id": "851e85d8",
   "metadata": {},
   "outputs": [
    {
     "data": {
      "text/plain": [
       "North Indian    13192\n",
       "dtype: int64"
      ]
     },
     "execution_count": 13,
     "metadata": {},
     "output_type": "execute_result"
    }
   ],
   "source": [
    "from collections import Counter\n",
    "\n",
    "all_cuisines = merged_df['cuisines'].dropna().str.split(', ')\n",
    "flat_list = [item for sublist in all_cuisines for item in sublist]\n",
    "pd.Series(flat_list).value_counts().head(1)"
   ]
  },
  {
   "cell_type": "code",
   "execution_count": 14,
   "id": "1bba147e",
   "metadata": {},
   "outputs": [
    {
     "data": {
      "text/plain": [
       "13192"
      ]
     },
     "execution_count": 14,
     "metadata": {},
     "output_type": "execute_result"
    }
   ],
   "source": [
    "merged_df[merged_df['cuisines'].str.contains('North Indian', case=False, na=False)].shape[0]\n",
    "\n"
   ]
  },
  {
   "cell_type": "code",
   "execution_count": 15,
   "id": "7b82e93b",
   "metadata": {},
   "outputs": [
    {
     "data": {
      "text/plain": [
       "North Indian    13192\n",
       "Name: cuisines, dtype: int64"
      ]
     },
     "execution_count": 15,
     "metadata": {},
     "output_type": "execute_result"
    }
   ],
   "source": [
    "merged_df['cuisines'].value_counts().head(1)\n"
   ]
  },
  {
   "cell_type": "code",
   "execution_count": 16,
   "id": "68dd4d67",
   "metadata": {},
   "outputs": [
    {
     "data": {
      "text/plain": [
       "listed_incity\n",
       "Indiranagar    599.898817\n",
       "Name: approx_costfor_two_people, dtype: float64"
      ]
     },
     "execution_count": 16,
     "metadata": {},
     "output_type": "execute_result"
    }
   ],
   "source": [
    "merged_df.groupby('listed_incity')['approx_costfor_two_people'].mean().sort_values(ascending=False).head(1)\n"
   ]
  },
  {
   "cell_type": "code",
   "execution_count": 17,
   "id": "f404ce11",
   "metadata": {},
   "outputs": [
    {
     "data": {
      "text/plain": [
       "Series([], Name: rate, dtype: float64)"
      ]
     },
     "execution_count": 17,
     "metadata": {},
     "output_type": "execute_result"
    }
   ],
   "source": [
    "merged_df[merged_df['votes'] > 1000].groupby('rest_type')['rate'].mean().sort_values(ascending=False).head(1)\n"
   ]
  },
  {
   "cell_type": "code",
   "execution_count": 18,
   "id": "9da955a4",
   "metadata": {},
   "outputs": [
    {
     "data": {
      "text/plain": [
       "250.0"
      ]
     },
     "execution_count": 18,
     "metadata": {},
     "output_type": "execute_result"
    }
   ],
   "source": [
    "merged_df['approx_costfor_two_people'].min()\n"
   ]
  },
  {
   "cell_type": "code",
   "execution_count": 19,
   "id": "15ae7584",
   "metadata": {},
   "outputs": [
    {
     "data": {
      "text/plain": [
       "0.0"
      ]
     },
     "execution_count": 19,
     "metadata": {},
     "output_type": "execute_result"
    }
   ],
   "source": [
    "banashankari = merged_df[(merged_df['online_order'] == 1) & (merged_df['listed_incity'] == 'Banashankari')].shape[0]\n",
    "total_online = merged_df[merged_df['online_order'] == 1].shape[0]\n",
    "percentage = (banashankari / total_online) * 100\n",
    "percentage\n"
   ]
  },
  {
   "cell_type": "code",
   "execution_count": 20,
   "id": "90d901d1",
   "metadata": {},
   "outputs": [
    {
     "data": {
      "text/plain": [
       "Koramangala    1362\n",
       "Name: listed_incity, dtype: int64"
      ]
     },
     "execution_count": 20,
     "metadata": {},
     "output_type": "execute_result"
    }
   ],
   "source": [
    "merged_df[(merged_df['votes'] > 500) & (merged_df['rate'] < 3)]['listed_incity'].value_counts().head(1)\n"
   ]
  },
  {
   "cell_type": "code",
   "execution_count": 21,
   "id": "cc938e63",
   "metadata": {},
   "outputs": [
    {
     "data": {
      "text/plain": [
       "listed_incity\n",
       "BTM    4\n",
       "Name: rest_type, dtype: int64"
      ]
     },
     "execution_count": 21,
     "metadata": {},
     "output_type": "execute_result"
    }
   ],
   "source": [
    "merged_df.groupby('listed_incity')['rest_type'].nunique().sort_values(ascending=False).head(1)\n"
   ]
  },
  {
   "cell_type": "code",
   "execution_count": 23,
   "id": "01174362",
   "metadata": {},
   "outputs": [
    {
     "data": {
      "text/plain": [
       "999"
      ]
     },
     "execution_count": 23,
     "metadata": {},
     "output_type": "execute_result"
    }
   ],
   "source": [
    "merged_df[merged_df['online_order'] == 1]['votes'].max()\n"
   ]
  },
  {
   "cell_type": "code",
   "execution_count": 25,
   "id": "718d9ab8",
   "metadata": {},
   "outputs": [
    {
     "data": {
      "text/plain": [
       "listed_incity\n",
       "Koramangala    3.919916e+09\n",
       "Name: estimated_revenue, dtype: float64"
      ]
     },
     "execution_count": 25,
     "metadata": {},
     "output_type": "execute_result"
    }
   ],
   "source": [
    "merged_df['estimated_revenue'] = merged_df['approx_costfor_two_people'] * merged_df['votes']\n",
    "merged_df.groupby('listed_incity')['estimated_revenue'].sum().sort_values(ascending=False).head(1)\n"
   ]
  },
  {
   "cell_type": "code",
   "execution_count": 24,
   "id": "a2550c77",
   "metadata": {},
   "outputs": [
    {
     "data": {
      "text/plain": [
       "nan"
      ]
     },
     "execution_count": 24,
     "metadata": {},
     "output_type": "execute_result"
    }
   ],
   "source": [
    "merged_df[\n",
    "    merged_df['cuisines'].str.contains('North Indian', na=False, case=False) & \n",
    "    merged_df['cuisines'].str.contains('Chinese', na=False, case=False)\n",
    "]['rate'].mean()\n"
   ]
  },
  {
   "cell_type": "code",
   "execution_count": 26,
   "id": "dcea57fb",
   "metadata": {},
   "outputs": [
    {
     "data": {
      "text/plain": [
       "rest_type\n",
       "Quick Bites    3.741083\n",
       "Name: rate, dtype: float64"
      ]
     },
     "execution_count": 26,
     "metadata": {},
     "output_type": "execute_result"
    }
   ],
   "source": [
    "merged_df.groupby('rest_type')['rate'].mean().sort_values().head(1)\n"
   ]
  },
  {
   "cell_type": "code",
   "execution_count": 27,
   "id": "7e6e3f4d",
   "metadata": {},
   "outputs": [
    {
     "data": {
      "text/plain": [
       "HSR    1397\n",
       "Name: listed_incity, dtype: int64"
      ]
     },
     "execution_count": 27,
     "metadata": {},
     "output_type": "execute_result"
    }
   ],
   "source": [
    "merged_df[(merged_df['rate'] > 4.2) & (merged_df['votes'] > 500) & (merged_df['online_order'] == 1)]['listed_incity'].value_counts().head(1)\n"
   ]
  },
  {
   "cell_type": "code",
   "execution_count": null,
   "id": "6d4be17e",
   "metadata": {},
   "outputs": [],
   "source": []
  }
 ],
 "metadata": {
  "kernelspec": {
   "display_name": "Python 3 (ipykernel)",
   "language": "python",
   "name": "python3"
  },
  "language_info": {
   "codemirror_mode": {
    "name": "ipython",
    "version": 3
   },
   "file_extension": ".py",
   "mimetype": "text/x-python",
   "name": "python",
   "nbconvert_exporter": "python",
   "pygments_lexer": "ipython3",
   "version": "3.10.9"
  }
 },
 "nbformat": 4,
 "nbformat_minor": 5
}
